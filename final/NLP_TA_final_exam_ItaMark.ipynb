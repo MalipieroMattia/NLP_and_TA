{
 "cells": [],
 "metadata": {
<<<<<<< HEAD
  "language_info": {
   "name": "python"
  }
 },
 "nbformat": 4,
 "nbformat_minor": 5
=======
  "kernelspec": {
   "display_name": "Python 3",
   "language": "python",
   "name": "python3"
  },
  "language_info": {
   "name": "python",
   "version": "3.12.5"
  }
 },
 "nbformat": 4,
 "nbformat_minor": 2
>>>>>>> ddb3a1ed3c0b6ba63973980d846e841df5c3de30
}
